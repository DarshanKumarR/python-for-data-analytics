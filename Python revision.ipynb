{
 "cells": [
  {
   "cell_type": "code",
   "execution_count": 1,
   "id": "cfdff683",
   "metadata": {},
   "outputs": [
    {
     "name": "stdout",
     "output_type": "stream",
     "text": [
      "10\n"
     ]
    }
   ],
   "source": [
    "#Python variable\n",
    "a=10\n",
    "print(a)"
   ]
  },
  {
   "cell_type": "code",
   "execution_count": 9,
   "id": "8daaf4f4",
   "metadata": {},
   "outputs": [
    {
     "name": "stdout",
     "output_type": "stream",
     "text": [
      "<class 'int'>\n",
      "<class 'str'>\n",
      "<class 'float'>\n",
      "<class 'tuple'>\n",
      "<class 'list'>\n",
      "5\n",
      "-1\n",
      "0.6666666666666666\n",
      "6\n",
      "8\n"
     ]
    }
   ],
   "source": [
    "#type\n",
    "a=12;\n",
    "print(type(a))\n",
    "b=\"hi\"\n",
    "print(type(b))\n",
    "c=1/2\n",
    "print(type(c))\n",
    "d=(\"a\",\"b\",\"c\")\n",
    "print(type(d))\n",
    "e=['a','b','c']\n",
    "print(type(e))\n",
    "\n",
    "#arthemetic op\n",
    "a=2\n",
    "b=3\n",
    "print(a+b)\n",
    "print(a-b)\n",
    "print(a/b)\n",
    "print(a*b)\n",
    "print(a**b)"
   ]
  },
  {
   "cell_type": "code",
   "execution_count": 10,
   "id": "302bf05a",
   "metadata": {},
   "outputs": [
    {
     "name": "stdout",
     "output_type": "stream",
     "text": [
      "7.0\n",
      "7.937253933193772\n"
     ]
    }
   ],
   "source": [
    "#.....Non exicutable part of the program\n",
    "\n",
    "#assighnment operator; area of triangle 3 sides\n",
    "a = 4\n",
    "b = 6\n",
    "c = 4\n",
    "z = (a+b+c)/2\n",
    "print(z)\n",
    "Area = (z*(z-a)*(z-b)*(z-c))**0.5\n",
    "print(Area)\n",
    "\n"
   ]
  },
  {
   "cell_type": "code",
   "execution_count": 13,
   "id": "6c0afd02",
   "metadata": {},
   "outputs": [
    {
     "name": "stdout",
     "output_type": "stream",
     "text": [
      "1 1 1\n",
      "1 two 3\n"
     ]
    }
   ],
   "source": [
    "#multiple assignment\n",
    "a = b = c = 1\n",
    "print(a,b,c)\n",
    "\n",
    "x,y,z=1,'two',3\n",
    "print(x,y,z)"
   ]
  },
  {
   "cell_type": "code",
   "execution_count": 15,
   "id": "3420e625",
   "metadata": {},
   "outputs": [],
   "source": [
    "#data types\n",
    "#tuple - multiple values in simple bracket()\n",
    "#int= 10,100,8899,-90\n",
    "#float = 0.0, 8.9, -55.2\n",
    "#complex = 3.14i,45i (x+yi)"
   ]
  },
  {
   "cell_type": "code",
   "execution_count": 51,
   "id": "3e79850d",
   "metadata": {},
   "outputs": [
    {
     "name": "stdout",
     "output_type": "stream",
     "text": [
      "h\n",
      "e\n",
      "ello\n",
      " edubridge\n",
      "egdirbude olleh\n",
      "e\n",
      "hello edubridge how r u\n"
     ]
    },
    {
     "data": {
      "text/plain": [
       "'Hello Edubridge'"
      ]
     },
     "execution_count": 51,
     "metadata": {},
     "output_type": "execute_result"
    }
   ],
   "source": [
    "#python strings #string is immutable\n",
    "str = 'hello edubridge'\n",
    "print(str[0])\n",
    "print(str[-1])\n",
    "print(str[1:5])\n",
    "print(str[5:])\n",
    "print(str[::-1])\n",
    "print(str[-1:])\n",
    "print(str+\" how r u\") #concatination\n",
    "str.lower()\n",
    "str.upper()\n",
    "str.title()"
   ]
  },
  {
   "cell_type": "code",
   "execution_count": 53,
   "id": "51b742d5",
   "metadata": {},
   "outputs": [
    {
     "name": "stdout",
     "output_type": "stream",
     "text": [
      "cat call\n",
      "8\n",
      "['bat', 'ball']\n",
      "2\n",
      "1\n"
     ]
    },
    {
     "data": {
      "text/plain": [
       "'In todays match Rohit,Virat,Dhoni, Yuvi scored 50+ runs'"
      ]
     },
     "execution_count": 53,
     "metadata": {},
     "output_type": "execute_result"
    }
   ],
   "source": [
    "#find and replace\n",
    "\n",
    "text = 'bat ball'\n",
    "replaced_text = text.replace('b','c',2)\n",
    "print(replaced_text)\n",
    "print(len(text))\n",
    "splits = text.split(' ')\n",
    "print(splits)\n",
    "print(len(splits))\n",
    "print(text.find('a'))\n",
    "\n",
    "#format\n",
    "\n",
    "cricket = \"In todays match {},{},{}, {} scored 50+ runs\"\n",
    "cricket.format(\"Rohit\",\"Virat\",\"Dhoni\",\"Yuvi\")\n",
    "\n"
   ]
  },
  {
   "cell_type": "code",
   "execution_count": 55,
   "id": "475f2a92",
   "metadata": {},
   "outputs": [
    {
     "name": "stdout",
     "output_type": "stream",
     "text": [
      "day in weeek saturday\n",
      "working day\n"
     ]
    }
   ],
   "source": [
    "#relational operator\n",
    "\n",
    "a=input(\"day in weeek \")\n",
    "if a==\"sunday\":\n",
    "    print(\"week off\")\n",
    "else:\n",
    "    print(\"working day\")"
   ]
  },
  {
   "cell_type": "code",
   "execution_count": 57,
   "id": "aae30615",
   "metadata": {},
   "outputs": [
    {
     "name": "stdout",
     "output_type": "stream",
     "text": [
      "maths:66\n",
      "science:77\n",
      "english:88\n",
      "social:99\n",
      "generalKnowledge:66\n",
      "396\n",
      "79.2\n",
      "79.2\n",
      "B\n"
     ]
    }
   ],
   "source": [
    "#logical operators\n",
    "\n",
    "m = int(input(\"maths:\"))\n",
    "s = int(input(\"science:\"))\n",
    "e = int(input(\"english:\"))\n",
    "ss = int(input(\"social:\"))\n",
    "gk = int(input(\"generalKnowledge:\"))\n",
    "total = (m+s+e+ss+gk)\n",
    "avg = (total/5)\n",
    "percent = ((total/500)*100)\n",
    "print(total)\n",
    "print(avg)\n",
    "print(percent)\n",
    "if avg>90:\n",
    "    print(\"A\")\n",
    "elif avg>70:\n",
    "    print(\"B\")\n",
    "elif avg>45:\n",
    "    print(\"C\")\n",
    "else:\n",
    "    print(\"fail\")"
   ]
  },
  {
   "cell_type": "code",
   "execution_count": 67,
   "id": "4d35f9b3",
   "metadata": {},
   "outputs": [
    {
     "name": "stdout",
     "output_type": "stream",
     "text": [
      "1\n",
      "[12, 18, 59, 78, 90, 108]\n",
      "{('Rohit', 12), ('Yuvi', 78), ('Dhoni', 59), ('Virat', 18)}\n"
     ]
    }
   ],
   "source": [
    "name = [\"Rohit\",\"Virat\",\"Dhoni\",\"Yuvi\"]\n",
    "captain = name.count(\"Virat\")\n",
    "print(captain)\n",
    "\n",
    "runs = [90,59,108,18,12,78];\n",
    "runs.sort()\n",
    "print(runs)\n",
    "\n",
    "x = zip(name,runs)\n",
    "print(set(x))"
   ]
  },
  {
   "cell_type": "code",
   "execution_count": 69,
   "id": "20fb67a5",
   "metadata": {},
   "outputs": [
    {
     "name": "stdout",
     "output_type": "stream",
     "text": [
      "45\n"
     ]
    }
   ],
   "source": [
    "#loop\n",
    "\n",
    "sum = 0\n",
    "i=1\n",
    "while i<10:\n",
    "    sum = sum+i\n",
    "    i=i+1\n",
    "print(sum)"
   ]
  },
  {
   "cell_type": "code",
   "execution_count": 71,
   "id": "88980ee1",
   "metadata": {},
   "outputs": [
    {
     "name": "stdout",
     "output_type": "stream",
     "text": [
      "['Rohit', 'Virat', 'Dhoni']\n"
     ]
    }
   ],
   "source": [
    "#to remove last element from list\n",
    "name = [\"Rohit\",\"Virat\",\"Dhoni\",\"Yuvi\"]\n",
    "name.pop()\n",
    "print(name)"
   ]
  },
  {
   "cell_type": "code",
   "execution_count": 75,
   "id": "9c4a66aa",
   "metadata": {},
   "outputs": [
    {
     "name": "stdout",
     "output_type": "stream",
     "text": [
      "{'brand': 'hyundai', 'model': 'venue', 'year': 2018}\n"
     ]
    },
    {
     "data": {
      "text/plain": [
       "dict"
      ]
     },
     "execution_count": 75,
     "metadata": {},
     "output_type": "execute_result"
    }
   ],
   "source": [
    "#dictionary;\n",
    "\n",
    "wheels = {\n",
    "    \"brand\": \"hyundai\",\n",
    "    \"model\": \"venue\",\n",
    "    \"year\": 2018\n",
    "}\n",
    "print(wheels)\n",
    "type(wheels)"
   ]
  },
  {
   "cell_type": "code",
   "execution_count": 79,
   "id": "d18c8e4d",
   "metadata": {},
   "outputs": [
    {
     "name": "stdout",
     "output_type": "stream",
     "text": [
      "{'bajaj': 12, 'hero': 23, 'tvs': 33, 'honda': 10}\n"
     ]
    }
   ],
   "source": [
    "#creating empty dict\n",
    "\n",
    "bike_Sales = {}\n",
    "bike_Sales[\"bajaj\"] = 12\n",
    "bike_Sales[\"hero\"] = 23\n",
    "bike_Sales[\"tvs\"] = 33\n",
    "bike_Sales[\"honda\"] = 10\n",
    "\n",
    "print(bike_Sales)"
   ]
  },
  {
   "cell_type": "code",
   "execution_count": null,
   "id": "2debaf8f",
   "metadata": {},
   "outputs": [],
   "source": []
  }
 ],
 "metadata": {
  "kernelspec": {
   "display_name": "Python 3 (ipykernel)",
   "language": "python",
   "name": "python3"
  },
  "language_info": {
   "codemirror_mode": {
    "name": "ipython",
    "version": 3
   },
   "file_extension": ".py",
   "mimetype": "text/x-python",
   "name": "python",
   "nbconvert_exporter": "python",
   "pygments_lexer": "ipython3",
   "version": "3.9.7"
  }
 },
 "nbformat": 4,
 "nbformat_minor": 5
}
