{
 "cells": [
  {
   "cell_type": "code",
   "execution_count": null,
   "id": "98c04e3e",
   "metadata": {},
   "outputs": [],
   "source": [
    "username = input(\"enter username: \")\n",
    "password = input(\"enter password: \")\n",
    "if username ==\"darshan\":\n",
    "    print(\"login\")\n",
    "else:\n",
    "    print(\"access denied\")\n",
    "if password ==\"darshi6x6\":\n",
    "    print(\"successfully\")\n",
    "else:\n",
    "    print(\"access denied\")\n"
   ]
  },
  {
   "cell_type": "code",
   "execution_count": null,
   "id": "1342f04b",
   "metadata": {},
   "outputs": [],
   "source": []
  }
 ],
 "metadata": {
  "kernelspec": {
   "display_name": "Python 3 (ipykernel)",
   "language": "python",
   "name": "python3"
  },
  "language_info": {
   "codemirror_mode": {
    "name": "ipython",
    "version": 3
   },
   "file_extension": ".py",
   "mimetype": "text/x-python",
   "name": "python",
   "nbconvert_exporter": "python",
   "pygments_lexer": "ipython3",
   "version": "3.9.7"
  }
 },
 "nbformat": 4,
 "nbformat_minor": 5
}
