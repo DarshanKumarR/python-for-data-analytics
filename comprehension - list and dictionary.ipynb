{
 "cells": [
  {
   "cell_type": "code",
   "execution_count": 1,
   "id": "8235f0a7",
   "metadata": {},
   "outputs": [
    {
     "name": "stdout",
     "output_type": "stream",
     "text": [
      "[1, 4, 9, 16, 25]\n"
     ]
    }
   ],
   "source": [
    "x=[1,2,3,4,5]\n",
    "y=[]\n",
    "for i in x:\n",
    "    y.append(i**2)\n",
    "print(y)\n"
   ]
  },
  {
   "cell_type": "code",
   "execution_count": 2,
   "id": "bcc2dff7",
   "metadata": {},
   "outputs": [
    {
     "name": "stdout",
     "output_type": "stream",
     "text": [
      "[1, 8, 27, 64, 125]\n"
     ]
    }
   ],
   "source": [
    "#list comprehension\n",
    "z=[i**3 for i in x]#[operation for loop]\n",
    "print(z)\n",
    "#new_list = [<expression> for <element> in <collection>]\n"
   ]
  },
  {
   "cell_type": "code",
   "execution_count": 4,
   "id": "8c58bea3",
   "metadata": {},
   "outputs": [
    {
     "name": "stdout",
     "output_type": "stream",
     "text": [
      "[1, 16, 81, 256, 625]\n"
     ]
    }
   ],
   "source": [
    "a = [i**4 for i in x]\n",
    "print(a)"
   ]
  },
  {
   "cell_type": "code",
   "execution_count": 13,
   "id": "fd8f0518",
   "metadata": {},
   "outputs": [
    {
     "name": "stdout",
     "output_type": "stream",
     "text": [
      "[7000, 9000, 11000]\n"
     ]
    }
   ],
   "source": [
    "salary = [2000,4000,6000,12000,15000]\n",
    "bonus=[]\n",
    "for i in salary:\n",
    "    if i<=10000:\n",
    "        bonus.append(i+5000)\n",
    "print(bonus)"
   ]
  },
  {
   "cell_type": "code",
   "execution_count": 21,
   "id": "df29596e",
   "metadata": {},
   "outputs": [
    {
     "data": {
      "text/plain": [
       "[5000, 7000, 9000]"
      ]
     },
     "execution_count": 21,
     "metadata": {},
     "output_type": "execute_result"
    }
   ],
   "source": [
    "salary1 = [i+3000 for i in salary if i<=7000 ]\n",
    "salary1"
   ]
  },
  {
   "cell_type": "code",
   "execution_count": 19,
   "id": "051bf6da",
   "metadata": {},
   "outputs": [
    {
     "data": {
      "text/plain": [
       "[7000, 9000, 11000, 17000, 20000]"
      ]
     },
     "execution_count": 19,
     "metadata": {},
     "output_type": "execute_result"
    }
   ],
   "source": [
    "salary2=[i+5000 if i>=1000 else i+2000 for i in salary ]\n",
    "salary2"
   ]
  },
  {
   "cell_type": "code",
   "execution_count": 40,
   "id": "03b7d99d",
   "metadata": {},
   "outputs": [
    {
     "name": "stdout",
     "output_type": "stream",
     "text": [
      "0\n",
      "1\n",
      "2\n",
      "3\n",
      "4\n",
      "5\n",
      "6\n",
      "7\n",
      "8\n",
      "9\n",
      "[0, 1, 4, 9, 16, 25, 36, 49, 64, 81]\n",
      "[0, 1, 8, 27, 64, 125, 216, 343, 512, 729]\n"
     ]
    }
   ],
   "source": [
    "single_digits = range(10)\n",
    "squares = []\n",
    "for i in single_digits:\n",
    "    print(i)\n",
    "for i in single_digits:\n",
    "    squares.append(i**2)\n",
    "print(squares)\n",
    "cubes=[i**3 for i in single_digits]\n",
    "print(cubes)\n",
    "\n",
    "\n",
    "\n",
    "\n",
    "\n"
   ]
  },
  {
   "cell_type": "code",
   "execution_count": 46,
   "id": "ad1a639a",
   "metadata": {},
   "outputs": [
    {
     "name": "stdout",
     "output_type": "stream",
     "text": [
      "{}\n",
      "{'tiger': 2, 'deer': 5, 'zebra': 8}\n",
      "dict_keys(['tiger', 'deer', 'zebra'])\n",
      "dict_values([2, 5, 8])\n",
      "dict_items([('tiger', 2), ('deer', 5), ('zebra', 8)])\n",
      "{'tiger': 2, 'deer': 5, 'zebra': 8, 'rabbit': 5, 'eagle': 2}\n"
     ]
    }
   ],
   "source": [
    "zoo={}\n",
    "print(zoo)\n",
    "zoo[\"tiger\"]=2\n",
    "zoo[\"deer\"]=5\n",
    "zoo[\"zebra\"]=8\n",
    "print(zoo)\n",
    "print(zoo.keys())\n",
    "print(zoo.values())\n",
    "print(zoo.items())\n",
    "zoo.update({'rabbit':5,'eagle':2})\n",
    "print(zoo)\n",
    "\n",
    "\n",
    "\n",
    "\n",
    "\n",
    "\n",
    "\n"
   ]
  },
  {
   "cell_type": "code",
   "execution_count": 50,
   "id": "df55028e",
   "metadata": {},
   "outputs": [
    {
     "name": "stdout",
     "output_type": "stream",
     "text": [
      "{'pizza': 350, 'tea': 75, 'dosa': 170}\n"
     ]
    }
   ],
   "source": [
    "#dictionary comprehension\n",
    "\n",
    "food=['pizza','tea','dosa']\n",
    "calories=[350,75,170]\n",
    "\n",
    "complete = {key:value for key,value in zip(food,calories)}\n",
    "print(complete)\n"
   ]
  },
  {
   "cell_type": "code",
   "execution_count": 57,
   "id": "5de4e6f0",
   "metadata": {},
   "outputs": [
    {
     "name": "stdout",
     "output_type": "stream",
     "text": [
      "{'a': 2, 'b': 4, 'c': 6, 'd': 8, 'e': 10}\n",
      "{'a': 145, 'b': 146, 'c': 147, 'd': 148, 'e': 149}\n",
      "{'aa': 1, 'bb': 2, 'cc': 3, 'dd': 4, 'ee': 5}\n",
      "{'a': 1, 'b': 4, 'c': 9, 'd': 16, 'e': 25}\n",
      "{'aa': 1, 'bb': 4, 'cc': 9, 'dd': 16, 'ee': 25}\n"
     ]
    }
   ],
   "source": [
    "dict1 = {'a': 1, 'b': 2, 'c': 3, 'd': 4, 'e': 5}\n",
    "# Double each value in the dictionary\n",
    "double_dict1 = {key:value *2 for key,value in dict1.items()}\n",
    "print(double_dict1)\n",
    "dict2 = {key:value +12**2 for key,value in dict1.items()}\n",
    "print(dict2)\n",
    "\n",
    "dict1_keys = {k*2:v for k,v in dict1.items()}\n",
    "print(dict1_keys)\n",
    "dict1_keys2 = {k:v**2 for k,v in dict1.items()}\n",
    "print(dict1_keys2)\n",
    "dict1_keys3 = {k*2:v**2 for k,v in dict1.items()}\n",
    "print(dict1_keys3)\n",
    "\n"
   ]
  },
  {
   "cell_type": "code",
   "execution_count": 66,
   "id": "b7475576",
   "metadata": {},
   "outputs": [
    {
     "name": "stdout",
     "output_type": "stream",
     "text": [
      "{2: 4, 4: 16, 6: 36, 8: 64, 10: 100}\n"
     ]
    }
   ],
   "source": [
    "#create a new dictionary where the key is a number divisible by 2 in a range of 0-10 and it's value is the square of the number.\n",
    "x = dict()\n",
    "for i in range(1,11):\n",
    "    if i%2==0:\n",
    "         x[i]=i**2\n",
    "print(x)\n",
    "   \n",
    "\n"
   ]
  },
  {
   "cell_type": "code",
   "execution_count": null,
   "id": "afb84137",
   "metadata": {},
   "outputs": [],
   "source": [
    "numbers = range(11)\n",
    "new_dict = {k:k**2 for k in numbers if k%2 == 0}\n",
    "print(new_dict)\n",
    "new={}\n",
    "for n in numbers:\n",
    "    if n%2==0:\n",
    "        new[n]=n**2\n",
    "print(new)"
   ]
  },
  {
   "cell_type": "code",
   "execution_count": 67,
   "id": "06d4d48b",
   "metadata": {},
   "outputs": [
    {
     "name": "stdout",
     "output_type": "stream",
     "text": [
      "{3: 'manager', 4: 'manager'}\n"
     ]
    }
   ],
   "source": [
    "employee={1:\"technician\",2:\"HR\",3:\"manager\",4:\"manager\",5:\"developer\"}\n",
    "manager_dict={k:v for k,v in employee.items() if v==\"manager\"}\n",
    "print(manager_dict)\n"
   ]
  },
  {
   "cell_type": "code",
   "execution_count": 68,
   "id": "f6b1a3e8",
   "metadata": {},
   "outputs": [
    {
     "name": "stdout",
     "output_type": "stream",
     "text": [
      "{'model': 'venue'}\n"
     ]
    }
   ],
   "source": [
    "autoMobile = {'brand': 'hyundai', 'model': 'venue', 'year': 2018, 'bajaj': 'pulsar', 'hero': 'splendor', 'tvs': 'victor'}\n",
    "cars = {k:v for k,v in autoMobile.items() if v==\"venue\" }\n",
    "print(cars)"
   ]
  },
  {
   "cell_type": "code",
   "execution_count": 75,
   "id": "3eb0ad5e",
   "metadata": {},
   "outputs": [
    {
     "name": "stdout",
     "output_type": "stream",
     "text": [
      "{'book': 4, 'data science': 12, 'data analytics': 14, 'dictionary': 10}\n",
      "{'BOOK': 4, 'DATA SCIENCE': 12, 'DATA ANALYTICS': 14, 'DICTIONARY': 10}\n"
     ]
    }
   ],
   "source": [
    "words = [\"book\",\"data science\",\"data analytics\",\"dictionary\"]\n",
    "length = {k:len(k) for k in words}\n",
    "print(length)\n",
    "newlength = {k.upper():len(k) for k in words}\n",
    "print(newlength)"
   ]
  },
  {
   "cell_type": "code",
   "execution_count": null,
   "id": "a58186d3",
   "metadata": {},
   "outputs": [],
   "source": []
  },
  {
   "cell_type": "code",
   "execution_count": null,
   "id": "9608b6e9",
   "metadata": {},
   "outputs": [],
   "source": []
  }
 ],
 "metadata": {
  "kernelspec": {
   "display_name": "Python 3 (ipykernel)",
   "language": "python",
   "name": "python3"
  },
  "language_info": {
   "codemirror_mode": {
    "name": "ipython",
    "version": 3
   },
   "file_extension": ".py",
   "mimetype": "text/x-python",
   "name": "python",
   "nbconvert_exporter": "python",
   "pygments_lexer": "ipython3",
   "version": "3.9.7"
  }
 },
 "nbformat": 4,
 "nbformat_minor": 5
}
